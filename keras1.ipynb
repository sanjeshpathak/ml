{
  "nbformat": 4,
  "nbformat_minor": 0,
  "metadata": {
    "colab": {
      "name": "Untitled2.ipynb",
      "provenance": [],
      "collapsed_sections": [],
      "include_colab_link": true
    },
    "kernelspec": {
      "name": "python3",
      "display_name": "Python 3"
    }
  },
  "cells": [
    {
      "cell_type": "markdown",
      "metadata": {
        "id": "view-in-github",
        "colab_type": "text"
      },
      "source": [
        "<a href=\"https://colab.research.google.com/github/sanjeshpathak/ml/blob/master/keras1.ipynb\" target=\"_parent\"><img src=\"https://colab.research.google.com/assets/colab-badge.svg\" alt=\"Open In Colab\"/></a>"
      ]
    },
    {
      "cell_type": "code",
      "metadata": {
        "id": "XJGxfRo8Uaj_",
        "colab_type": "code",
        "colab": {
          "base_uri": "https://localhost:8080/",
          "height": 283
        },
        "outputId": "e67851cd-bf80-403c-aa82-ffce9c153aef"
      },
      "source": [
        "import tensorflow as tf\n",
        "from tensorflow import keras\n",
        "import numpy as np\n",
        "\n",
        "fashion_mnist = keras.datasets.fashion_mnist\n",
        "\n",
        "(train_images, train_labels), (test_images, test_labels) = fashion_mnist.load_data()\n",
        "\n",
        "model = keras.Sequential([\n",
        "                keras.layers.Flatten(input_shape=(28,28)),\n",
        "                keras.layers.Dense(256, activation=tf.nn.relu),\n",
        "                keras.layers.Dense(10, activation=tf.nn.softmax)\n",
        "                ])\n",
        "\n",
        "model.compile(optimizer=tf.train.AdamOptimizer(), loss='sparse_categorical_crossentropy')\n",
        "\n",
        "model.fit(train_images, train_labels, epochs=5)\n",
        "\n",
        "loss_value = model.evaluate(test_images, test_labels)\n",
        "\n",
        "print(loss_value)\n",
        "\n",
        "image = np.expand_dims(test_images[0], axis=0)\n",
        "#image = test_images[0].flatten()\n",
        "\n",
        "#image = keras.layers.Flatten(test_images[0])\n",
        "prediction = model.predict_classes(image)\n",
        "print(prediction)\n",
        "\n",
        "prediction = model.predict_classes(np.expand_dims(test_images[100], axis=0))\n",
        "print(prediction)"
      ],
      "execution_count": 2,
      "outputs": [
        {
          "output_type": "stream",
          "text": [
            "Train on 60000 samples\n",
            "Epoch 1/5\n",
            "60000/60000 [==============================] - 5s 81us/sample - loss: 4.1718\n",
            "Epoch 2/5\n",
            "60000/60000 [==============================] - 5s 80us/sample - loss: 0.6831\n",
            "Epoch 3/5\n",
            "60000/60000 [==============================] - 5s 80us/sample - loss: 0.5600\n",
            "Epoch 4/5\n",
            "60000/60000 [==============================] - 5s 82us/sample - loss: 0.5002\n",
            "Epoch 5/5\n",
            "60000/60000 [==============================] - 5s 82us/sample - loss: 0.4936\n",
            "10000/10000 [==============================] - 0s 44us/sample - loss: 0.5323\n",
            "0.5322515114784241\n",
            "[9]\n",
            "[3]\n"
          ],
          "name": "stdout"
        }
      ]
    }
  ]
}